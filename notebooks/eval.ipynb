{
 "cells": [
  {
   "cell_type": "code",
   "execution_count": 1,
   "id": "b1cae1ac",
   "metadata": {},
   "outputs": [],
   "source": [
    "import joblib\n",
    "import matplotlib.pyplot as plt\n",
    "import numpy as np\n",
    "from sklearn.metrics import (\n",
    "    mean_absolute_error,\n",
    "    mean_squared_error,\n",
    "    r2_score\n",
    ")\n",
    "\n",
    "import pandas as pd"
   ]
  },
  {
   "cell_type": "code",
   "execution_count": 2,
   "id": "08c694c5",
   "metadata": {},
   "outputs": [
    {
     "name": "stderr",
     "output_type": "stream",
     "text": [
      "/home/lo0py/Workspace/DGX2025/RevJour/energy-consumption-forecast/.venv/lib/python3.12/site-packages/sklearn/base.py:380: InconsistentVersionWarning: Trying to unpickle estimator Lasso from version 1.4.2 when using version 1.6.1. This might lead to breaking code or invalid results. Use at your own risk. For more info please refer to:\n",
      "https://scikit-learn.org/stable/model_persistence.html#security-maintainability-limitations\n",
      "  warnings.warn(\n"
     ]
    }
   ],
   "source": [
    "model_ridge = joblib.load(\"../models/model_ridge.joblib\")\n",
    "model_lasso = joblib.load(\"../models/model_lasso.joblib\")\n",
    "model_elasticnet = joblib.load(\"../models/model_elasticnet.joblib\")\n",
    "\n",
    "X_test_scaled = np.load(\"../models/X_test_scaled.npy\")\n",
    "y_test = np.load(\"../models/y_test.npy\")"
   ]
  },
  {
   "cell_type": "code",
   "execution_count": 3,
   "id": "5ec21ef1",
   "metadata": {},
   "outputs": [
    {
     "data": {
      "text/plain": [
       "array([[-1.28062656, -0.94750337,  0.83009831,  1.2683758 , -0.69388867,\n",
       "         1.43002892, -0.72830954,  1.01142894, -1.01142894],\n",
       "       [-1.29340604,  0.39628421,  0.12081924,  1.74374182,  1.44115338,\n",
       "        -0.69928656, -0.72830954,  1.01142894, -1.01142894],\n",
       "       [ 1.55895833, -0.49957417, -0.58845983, -0.84326495,  1.44115338,\n",
       "        -0.69928656, -0.72830954,  1.01142894, -1.01142894],\n",
       "       [ 0.37159697, -1.56771302, -0.73031564, -1.74321605, -0.69388867,\n",
       "        -0.69928656,  1.37304257, -0.9887002 ,  0.9887002 ],\n",
       "       [-0.2058093 ,  0.32737203,  1.53937738,  1.41084454, -0.69388867,\n",
       "        -0.69928656,  1.37304257, -0.9887002 ,  0.9887002 ]])"
      ]
     },
     "execution_count": 3,
     "metadata": {},
     "output_type": "execute_result"
    }
   ],
   "source": [
    "X_test_scaled[:5]"
   ]
  },
  {
   "cell_type": "code",
   "execution_count": 4,
   "id": "7e90e677",
   "metadata": {},
   "outputs": [
    {
     "data": {
      "text/plain": [
       "array([3708.08, 3372.2 , 5023.85, 3314.91, 3984.2 ])"
      ]
     },
     "execution_count": 4,
     "metadata": {},
     "output_type": "execute_result"
    }
   ],
   "source": [
    "y_test[:5]"
   ]
  },
  {
   "cell_type": "code",
   "execution_count": 5,
   "id": "d768a288",
   "metadata": {},
   "outputs": [],
   "source": [
    "y_pred_ridge = model_ridge.predict(X_test_scaled)\n",
    "y_pred_lasso = model_lasso.predict(X_test_scaled)\n",
    "y_pred_elasticnet = model_elasticnet.predict(X_test_scaled)"
   ]
  },
  {
   "cell_type": "code",
   "execution_count": 6,
   "id": "28b099aa",
   "metadata": {},
   "outputs": [
    {
     "data": {
      "text/html": [
       "<div>\n",
       "<style scoped>\n",
       "    .dataframe tbody tr th:only-of-type {\n",
       "        vertical-align: middle;\n",
       "    }\n",
       "\n",
       "    .dataframe tbody tr th {\n",
       "        vertical-align: top;\n",
       "    }\n",
       "\n",
       "    .dataframe thead th {\n",
       "        text-align: right;\n",
       "    }\n",
       "</style>\n",
       "<table border=\"1\" class=\"dataframe\">\n",
       "  <thead>\n",
       "    <tr style=\"text-align: right;\">\n",
       "      <th></th>\n",
       "      <th>Actual</th>\n",
       "      <th>Pred_ridge</th>\n",
       "      <th>Pred_lasso</th>\n",
       "      <th>pred_elasticnet</th>\n",
       "    </tr>\n",
       "  </thead>\n",
       "  <tbody>\n",
       "    <tr>\n",
       "      <th>0</th>\n",
       "      <td>3708.08</td>\n",
       "      <td>3708.101799</td>\n",
       "      <td>3708.099997</td>\n",
       "      <td>3708.132198</td>\n",
       "    </tr>\n",
       "    <tr>\n",
       "      <th>1</th>\n",
       "      <td>3372.20</td>\n",
       "      <td>3372.200859</td>\n",
       "      <td>3372.205389</td>\n",
       "      <td>3372.251457</td>\n",
       "    </tr>\n",
       "    <tr>\n",
       "      <th>2</th>\n",
       "      <td>5023.85</td>\n",
       "      <td>5023.849895</td>\n",
       "      <td>5023.849762</td>\n",
       "      <td>5023.815932</td>\n",
       "    </tr>\n",
       "    <tr>\n",
       "      <th>3</th>\n",
       "      <td>3314.91</td>\n",
       "      <td>3314.898691</td>\n",
       "      <td>3314.902457</td>\n",
       "      <td>3314.924401</td>\n",
       "    </tr>\n",
       "    <tr>\n",
       "      <th>4</th>\n",
       "      <td>3984.20</td>\n",
       "      <td>3984.199376</td>\n",
       "      <td>3984.201346</td>\n",
       "      <td>3984.192278</td>\n",
       "    </tr>\n",
       "    <tr>\n",
       "      <th>5</th>\n",
       "      <td>4516.02</td>\n",
       "      <td>4516.000118</td>\n",
       "      <td>4516.001475</td>\n",
       "      <td>4515.992157</td>\n",
       "    </tr>\n",
       "    <tr>\n",
       "      <th>6</th>\n",
       "      <td>2728.63</td>\n",
       "      <td>2728.649303</td>\n",
       "      <td>2728.654673</td>\n",
       "      <td>2728.705836</td>\n",
       "    </tr>\n",
       "    <tr>\n",
       "      <th>7</th>\n",
       "      <td>4374.33</td>\n",
       "      <td>4374.347999</td>\n",
       "      <td>4374.351641</td>\n",
       "      <td>4374.343291</td>\n",
       "    </tr>\n",
       "    <tr>\n",
       "      <th>8</th>\n",
       "      <td>5763.85</td>\n",
       "      <td>5763.849273</td>\n",
       "      <td>5763.842719</td>\n",
       "      <td>5763.772562</td>\n",
       "    </tr>\n",
       "    <tr>\n",
       "      <th>9</th>\n",
       "      <td>3796.71</td>\n",
       "      <td>3796.700770</td>\n",
       "      <td>3796.704262</td>\n",
       "      <td>3796.730698</td>\n",
       "    </tr>\n",
       "  </tbody>\n",
       "</table>\n",
       "</div>"
      ],
      "text/plain": [
       "    Actual   Pred_ridge   Pred_lasso  pred_elasticnet\n",
       "0  3708.08  3708.101799  3708.099997      3708.132198\n",
       "1  3372.20  3372.200859  3372.205389      3372.251457\n",
       "2  5023.85  5023.849895  5023.849762      5023.815932\n",
       "3  3314.91  3314.898691  3314.902457      3314.924401\n",
       "4  3984.20  3984.199376  3984.201346      3984.192278\n",
       "5  4516.02  4516.000118  4516.001475      4515.992157\n",
       "6  2728.63  2728.649303  2728.654673      2728.705836\n",
       "7  4374.33  4374.347999  4374.351641      4374.343291\n",
       "8  5763.85  5763.849273  5763.842719      5763.772562\n",
       "9  3796.71  3796.700770  3796.704262      3796.730698"
      ]
     },
     "execution_count": 6,
     "metadata": {},
     "output_type": "execute_result"
    }
   ],
   "source": [
    "res = pd.DataFrame({\"Actual\": y_test, \"Pred_ridge\": y_pred_ridge, \"Pred_lasso\": y_pred_lasso, \"pred_elasticnet\": y_pred_elasticnet})\n",
    "res.head(10)"
   ]
  },
  {
   "cell_type": "code",
   "execution_count": 7,
   "id": "0d467b76",
   "metadata": {},
   "outputs": [],
   "source": [
    "def eval_score(y_pred):\n",
    "    return (\n",
    "        mean_absolute_error(y_test, y_pred),\n",
    "        mean_squared_error(y_test, y_pred),\n",
    "        r2_score(y_test, y_pred),\n",
    "    )"
   ]
  },
  {
   "cell_type": "code",
   "execution_count": 8,
   "id": "a39a5ac4",
   "metadata": {},
   "outputs": [],
   "source": [
    "mae_ridge, mse_ridge, r2_ridge =  eval_score(y_pred_ridge)\n",
    "mae_lasso, mse_lasso, r2_lasso =  eval_score(y_pred_lasso)\n",
    "mae_elastic, mse_elastic, r2_elastic =  eval_score(y_pred_elasticnet)"
   ]
  },
  {
   "cell_type": "code",
   "execution_count": 9,
   "id": "69c79093",
   "metadata": {},
   "outputs": [
    {
     "data": {
      "text/plain": [
       "(0.011976068441679838, 0.0001990174772646771, 0.9999999997660297)"
      ]
     },
     "execution_count": 9,
     "metadata": {},
     "output_type": "execute_result"
    }
   ],
   "source": [
    "mae_ridge, mse_ridge, r2_ridge"
   ]
  },
  {
   "cell_type": "code",
   "execution_count": 10,
   "id": "3874d2f1",
   "metadata": {},
   "outputs": [
    {
     "data": {
      "text/plain": [
       "(0.012374608015418495, 0.00020383632994371923, 0.9999999997603646)"
      ]
     },
     "execution_count": 10,
     "metadata": {},
     "output_type": "execute_result"
    }
   ],
   "source": [
    "mae_lasso, mse_lasso, r2_lasso"
   ]
  },
  {
   "cell_type": "code",
   "execution_count": 11,
   "id": "1b358fa8",
   "metadata": {},
   "outputs": [
    {
     "data": {
      "text/plain": [
       "(0.037457296007577995, 0.0020858074571065105, 0.9999999975478692)"
      ]
     },
     "execution_count": 11,
     "metadata": {},
     "output_type": "execute_result"
    }
   ],
   "source": [
    "mae_elastic, mse_elastic, r2_elastic"
   ]
  }
 ],
 "metadata": {
  "kernelspec": {
   "display_name": ".venv",
   "language": "python",
   "name": "python3"
  },
  "language_info": {
   "codemirror_mode": {
    "name": "ipython",
    "version": 3
   },
   "file_extension": ".py",
   "mimetype": "text/x-python",
   "name": "python",
   "nbconvert_exporter": "python",
   "pygments_lexer": "ipython3",
   "version": "3.12.8"
  }
 },
 "nbformat": 4,
 "nbformat_minor": 5
}
